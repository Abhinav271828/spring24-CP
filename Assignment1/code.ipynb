{
 "cells": [
  {
   "cell_type": "code",
   "execution_count": 33,
   "metadata": {},
   "outputs": [],
   "source": [
    "from nltk.tokenize import word_tokenize, sent_tokenize\n",
    "from collections import Counter\n",
    "import matplotlib.pyplot as plt\n",
    "from math import log\n",
    "import numpy as np"
   ]
  },
  {
   "cell_type": "code",
   "execution_count": 4,
   "metadata": {},
   "outputs": [],
   "source": [
    "with open('kjv.txt', 'r') as f:\n",
    "    text = f.read()\n",
    "    text = text.replace('\\n', ' ')\n",
    "    text += ' '\n",
    "\n",
    "with open('jungle.txt', 'r') as f:\n",
    "    text += f.read()"
   ]
  },
  {
   "cell_type": "code",
   "execution_count": 9,
   "metadata": {},
   "outputs": [],
   "source": [
    "sentences = sent_tokenize(text)\n",
    "words = [w for s in sentences for w in word_tokenize(s)]"
   ]
  },
  {
   "cell_type": "code",
   "execution_count": 12,
   "metadata": {},
   "outputs": [],
   "source": [
    "words = [w.lower() for w in words if w.isalpha()]"
   ]
  },
  {
   "cell_type": "markdown",
   "metadata": {},
   "source": [
    "# Question 1\n",
    "Calculate word length in terms of number of letters."
   ]
  },
  {
   "cell_type": "code",
   "execution_count": 17,
   "metadata": {},
   "outputs": [],
   "source": [
    "lengths = [len(w) for w in words]"
   ]
  },
  {
   "cell_type": "markdown",
   "metadata": {},
   "source": [
    "# Question 2\n",
    "Calculate the number of words at different word lengths."
   ]
  },
  {
   "cell_type": "code",
   "execution_count": 18,
   "metadata": {},
   "outputs": [],
   "source": [
    "hist = Counter(lengths)"
   ]
  },
  {
   "cell_type": "markdown",
   "metadata": {},
   "source": [
    "# Question 3\n",
    "What are the shortest words in your dataset? Comment on these words.\n",
    "\n",
    "The 2-length words are mostly funciton words (e.g. prepositions like \"in,\" \"by,\" articles like \"an,\" pronouns like \"me,\" \"he,\" conjunctions like \"if,\" \"as,\" or interjections like \"hm\") or very common content words (\"do\", \"go\", \"is\").\n",
    "The 3- and higher-length words are almost exclusively content words."
   ]
  },
  {
   "cell_type": "code",
   "execution_count": 38,
   "metadata": {},
   "outputs": [
    {
     "name": "stdout",
     "output_type": "stream",
     "text": [
      "{'e', 'o', 's', 'h', 'a', 'c', 'l', 'b', 'i'}\n",
      "{'hm', 'ur', 'ox', 'ca', 'in', 'do', 'is', 'we', 'ah', 'so', 'by', 'ho', 'il', 'if', 'me', 'be', 'my', 'us', 'he', 'ai', 'an', 'am', 'go', 'og', 'ay', 'to', 'at', 'lo', 'hi', 'as', 'on', 'it', 'or', 'ts', 'up', 'no', 'ar', 'wo', 'ir', 'uz', 'of', 'ut', 'un', 'co', 'ha', 'oh', 'er', 'ye', 'ed', 'pg'}\n",
      "{'tug', 'ill', 'jaw', 'ant', 'cry', 'bat', 'sin', 'hot', 'uri', 'ziz', 'pit', 'hem', 'gad', 'bed', 'fan', 'ask', 'tin', 'all', 'rat', 'buy', 'sky', 'dip', 'axe', 'hoe', 'huz', 'ava', 'gur', 'owe', 'age', 'tie', 'irs', 'naw', 'toe', 'rib', 'out', 'hai', 'lod', 'led', 'put', 'ein', 'ono', 'rub', 'did', 'tra', 'six', 'zif', 'nor', 'pau', 'gog', 'sap', 'any', 'ere', 'jar', 'day', 'its', 'bul', 'gin', 'ink', 'dor', 'bit', 'low', 'jew', 'koa', 'ham', 'pin', 'law', 'eye', 'met', 'sue', 'ara', 'few', 'lop', 'koz', 'dig', 'hod', 'eli', 'lay', 'had', 'sur', 'dam', 'sit', 'hum', 'man', 'heh', 'yea', 'and', 'tob', 'cis', 'mao', 'evi', 'sum', 'nag', 'but', 'ton', 'yes', 'lip', 'lot', 'inn', 'hug', 'bud', 'got', 'ugh', 'kaa', 'see', 'now', 'wit', 'cow', 'fed', 'pet', 'pai', 'him', 'she', 'his', 'lud', 'fog', 'hip', 'grr', 'too', 'ehi', 'ali', 'iim', 'hew', 'hat', 'ran', 'woe', 'zin', 'ado', 'may', 'raw', 'die', 'pay', 'far', 'you', 'say', 'sod', 'owl', 'fit', 'odd', 'eri', 'toi', 'oar', 'nun', 'ray', 'pig', 'row', 'arm', 'key', 'wen', 'apt', 'abi', 'two', 'cat', 'fir', 'tip', 'den', 'sad', 'pua', 'nut', 'hut', 'not', 'lit', 'hur', 'nay', 'new', 'old', 'bag', 'dog', 'joy', 'egg', 'fly', 'rim', 'cor', 'the', 'wag', 'eve', 'ark', 'ear', 'son', 'ten', 'rob', 'vow', 'pur', 'sea', 'has', 'wet', 'thy', 'luz', 'web', 'fig', 'pen', 'jah', 'maw', 'gun', 'wow', 'bah', 'ner', 'fox', 'use', 'rot', 'bow', 'sup', 'oho', 'mud', 'cut', 'fee', 'fro', 'ice', 'ape', 'fun', 'are', 'ben', 'jig', 'sew', 'ewe', 'bay', 'aul', 'zur', 'kir', 'can', 'paw', 'hin', 'pan', 'sun', 'let', 'rip', 'wee', 'vex', 'cab', 'zer', 'eat', 'air', 'cod', 'dan', 'hsh', 'awe', 'fat', 'red', 'ash', 'won', 'pah', 'fix', 'fur', 'sir', 'iri', 'bee', 'why', 'wah', 'wig', 'run', 'bad', 'mar', 'bid', 'nob', 'guj', 'zia', 'rod', 'ate', 'yet', 'get', 'hul', 'jot', 'pul', 'iru', 'cub', 'bar', 'buz', 'non', 'god', 'dim', 'dry', 'lap', 'gay', 'nod', 'way', 'set', 'hah', 'sop', 'asa', 'act', 'beg', 'for', 'mad', 'ard', 'one', 'saw', 'oak', 'reu', 'hid', 'sia', 'cud', 'rag', 'kin', 'bel', 'hen', 'gob', 'men', 'rid', 'sow', 'noe', 'wax', 'yai', 'rei', 'hay', 'oil', 'nap', 'who', 'gap', 'sat', 'kid', 'war', 'ami', 'own', 'tax', 'err', 'due', 'top', 'lad', 'tow', 'ago', 'boy', 'aha', 'tou', 'try', 'sem', 'pad', 'rie', 'fin', 'uel', 'off', 'lid', 'oft', 'ass', 'coz', 'doe', 'mob', 'net', 'ira', 'ram', 'leg', 'big', 'log', 'was', 'cap', 'ahi', 'gat', 'pot', 'art', 'hor', 'rue', 'our', 'her', 'dew', 'add', 'end', 'how', 'asp', 'box', 'spy', 'job', 'wot', 'cup', 'lie', 'hap', 'win', 'hit', 'ain', 'roe', 'din'}\n"
     ]
    }
   ],
   "source": [
    "def words_of_length(n):\n",
    "    return set([w for w in words if len(w) == n])\n",
    "\n",
    "print(words_of_length(1))\n",
    "print(words_of_length(2))\n",
    "print(words_of_length(3))"
   ]
  },
  {
   "cell_type": "markdown",
   "metadata": {},
   "source": [
    "# Question 4\n",
    "Plot a graph with length on the X-axis and Frequency on the Y-axis"
   ]
  },
  {
   "cell_type": "code",
   "execution_count": 40,
   "metadata": {},
   "outputs": [
    {
     "data": {
      "text/plain": [
       "<BarContainer object of 18 artists>"
      ]
     },
     "execution_count": 40,
     "metadata": {},
     "output_type": "execute_result"
    },
    {
     "data": {
      "image/png": "[encoded data removed]",
      "text/plain": [
       "<Figure size 640x480 with 1 Axes>"
      ]
     },
     "metadata": {},
     "output_type": "display_data"
    }
   ],
   "source": [
    "plt.bar(range(1, 19), [hist[i] for i in range(1, 19)])"
   ]
  },
  {
   "cell_type": "markdown",
   "metadata": {},
   "source": [
    "# Question 5\n",
    "Plot a graph with log10(word length) on the X-axis and log10(Frequency) on the Y-axis."
   ]
  },
  {
   "cell_type": "code",
   "execution_count": 42,
   "metadata": {},
   "outputs": [
    {
     "data": {
      "text/plain": [
       "<BarContainer object of 18 artists>"
      ]
     },
     "execution_count": 42,
     "metadata": {},
     "output_type": "execute_result"
    },
    {
     "data": {
      "image/png": "[encoded data removed]",
      "text/plain": [
       "<Figure size 640x480 with 1 Axes>"
      ]
     },
     "metadata": {},
     "output_type": "display_data"
    }
   ],
   "source": [
    "plt.bar([log(x) for x in range(1, 19)], [log(hist[i]) for i in range(1, 19)])"
   ]
  },
  {
   "cell_type": "markdown",
   "metadata": {},
   "source": [
    "# Question 6\n",
    "What is the Pearson's coefficient of correlation between length and frequency?\n",
    "\n",
    "Ans: -0.8091937069744125"
   ]
  },
  {
   "cell_type": "code",
   "execution_count": 35,
   "metadata": {},
   "outputs": [
    {
     "data": {
      "text/plain": [
       "-0.8091937069744125"
      ]
     },
     "execution_count": 35,
     "metadata": {},
     "output_type": "execute_result"
    }
   ],
   "source": [
    "rho = np.corrcoef(range(2, 19), [hist[i] for i in range(2, 19)])[0, 1]"
   ]
  },
  {
   "cell_type": "markdown",
   "metadata": {},
   "source": [
    "# Question 7\n",
    "Write a short note on the question: “Are word lengths optmized for efficient communication?”\n",
    "\n",
    "From the above, we see some evidence towards Zipf's Law, i.e., more common words tend to be shorter. However, this rule is far from universal, and is nothing more than a rough correlation – we see many extremely rare three-letter words, for instance.\n",
    "This fact gives us more confidence in the thesis of the cited paper, which makes the claim that frequency is not the deciding factor, but *information content* – it is this attribute that is regulated across the lengths of words. However, our unigram-based context-independent study cannot give us any further leads on this claim."
   ]
  }
 ],
 "metadata": {
  "kernelspec": {
   "display_name": "Python 3",
   "language": "python",
   "name": "python3"
  },
  "language_info": {
   "codemirror_mode": {
    "name": "ipython",
    "version": 3
   },
   "file_extension": ".py",
   "mimetype": "text/x-python",
   "name": "python",
   "nbconvert_exporter": "python",
   "pygments_lexer": "ipython3",
   "version": "3.11.6"
  }
 },
 "nbformat": 4,
 "nbformat_minor": 2
}
